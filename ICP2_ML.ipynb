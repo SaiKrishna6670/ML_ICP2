{
  "nbformat": 4,
  "nbformat_minor": 0,
  "metadata": {
    "colab": {
      "provenance": []
    },
    "kernelspec": {
      "name": "python3",
      "display_name": "Python 3"
    },
    "language_info": {
      "name": "python"
    }
  },
  "cells": [
    {
      "cell_type": "code",
      "execution_count": 6,
      "metadata": {
        "colab": {
          "base_uri": "https://localhost:8080/"
        },
        "id": "OW2nUs5JiC0U",
        "outputId": "0d6b99b8-948d-4b8c-b8c1-02e5e1f71381"
      },
      "outputs": [
        {
          "output_type": "stream",
          "name": "stdout",
          "text": [
            "Enter number of rows:9\n",
            "* \n",
            "* * \n",
            "* * * \n",
            "* * * * \n",
            "* * * * * \n",
            "* * * * * * \n",
            "* * * * * * * \n",
            "* * * * * * * * \n",
            "* * * * * * * * * \n",
            "* * * * * * * * \n",
            "* * * * * * * \n",
            "* * * * * * \n",
            "* * * * * \n",
            "* * * * \n",
            "* * * \n",
            "* * \n",
            "* \n"
          ]
        }
      ],
      "source": [
        "#Q1\n",
        "\n",
        "rows = int(input(\"Enter number of rows:\"))\n",
        "for i in range(1, rows+1):\n",
        "    for j in range(1, i + 1):\n",
        "        print(\"*\", end=' ')\n",
        "    print()\n",
        "\n",
        "for i in range(rows, 1, -1):\n",
        "    for j in range(1, i):\n",
        "        print(\"*\", end=' ')\n",
        "    print()"
      ]
    },
    {
      "cell_type": "code",
      "source": [
        "#Q2\n",
        "\n",
        "my_list = [10, 20, 30, 40, 50, 60, 70, 80, 90, 100]\n",
        "i = 0\n",
        "while i < len(my_list):\n",
        "    print(my_list[i], end = '  ')\n",
        "    i = i + 2"
      ],
      "metadata": {
        "colab": {
          "base_uri": "https://localhost:8080/"
        },
        "id": "BNtchDXFiJPD",
        "outputId": "98b131b2-c525-4bab-ea9b-dfd4666f7e69"
      },
      "execution_count": 7,
      "outputs": [
        {
          "output_type": "stream",
          "name": "stdout",
          "text": [
            "10  30  50  70  90  "
          ]
        }
      ]
    },
    {
      "cell_type": "code",
      "source": [
        "#Q3\n",
        "\n",
        "lst = [23, 'Python', 23.98]\n",
        "list=[]\n",
        "for element in lst:\n",
        "   x = type(element)\n",
        "   list.append(x)\n",
        "print (str(lst)[1:-1])\n",
        "print(str(list)[1:-1])"
      ],
      "metadata": {
        "colab": {
          "base_uri": "https://localhost:8080/"
        },
        "id": "OGcy8imviKfg",
        "outputId": "c150b7ae-9ffb-445d-dfcb-e6c9767119ba"
      },
      "execution_count": 8,
      "outputs": [
        {
          "output_type": "stream",
          "name": "stdout",
          "text": [
            "23, 'Python', 23.98\n",
            "<class 'int'>, <class 'str'>, <class 'float'>\n"
          ]
        }
      ]
    },
    {
      "cell_type": "code",
      "source": [
        "#Q4\n",
        "def unique(list):\n",
        "    # initialize a null list\n",
        "    unique_list = []\n",
        "\n",
        "    # traverse for all elements\n",
        "    for x in list:\n",
        "        # check if exists in unique_list or not\n",
        "        if x not in unique_list:\n",
        "            unique_list.append(x)\n",
        "    # print list\n",
        "    print(str(unique_list)[1:-1])\n",
        "list = [1,2,3,3,3,3,4,5]\n",
        "unique(list)"
      ],
      "metadata": {
        "colab": {
          "base_uri": "https://localhost:8080/"
        },
        "id": "KVE9Z1wViLe1",
        "outputId": "f82959ff-6664-4a73-8ece-ff9da4a25a83"
      },
      "execution_count": 9,
      "outputs": [
        {
          "output_type": "stream",
          "name": "stdout",
          "text": [
            "1, 2, 3, 4, 5\n"
          ]
        }
      ]
    },
    {
      "cell_type": "code",
      "source": [
        "#Q5\n",
        "\n",
        "Str='The quick Brow Fox'\n",
        "lower=0\n",
        "upper=0\n",
        "for i in Str:\n",
        "      if(i.isupper()):\n",
        "            upper+=1\n",
        "      elif(i.islower()):\n",
        "            lower+=1\n",
        "print(\"The number of Uppercase characters is:\",upper)\n",
        "print(\"The number of lowercase characters is:\",lower)"
      ],
      "metadata": {
        "colab": {
          "base_uri": "https://localhost:8080/"
        },
        "id": "YlEQi0VKiMbW",
        "outputId": "1bd058cf-5376-41e0-be20-549e9739bb0b"
      },
      "execution_count": 10,
      "outputs": [
        {
          "output_type": "stream",
          "name": "stdout",
          "text": [
            "The number of Uppercase characters is: 3\n",
            "The number of lowercase characters is: 12\n"
          ]
        }
      ]
    }
  ]
}